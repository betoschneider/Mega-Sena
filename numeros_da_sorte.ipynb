{
 "cells": [
  {
   "cell_type": "markdown",
   "metadata": {},
   "source": [
    "# Números da Sorte\n",
    "### Script para gerar números aleatórios agrupados em jogos de loteria"
   ]
  },
  {
   "cell_type": "code",
   "execution_count": 1,
   "metadata": {},
   "outputs": [],
   "source": [
    "def numeros_da_sorte(qtd_jogos, qtd_dezendas=6, dezena_max=60):\n",
    "    '''\n",
    "    qtd_jogos: int, número de jogos a serem gerados\n",
    "    qtd_dezenas: int, quantidade de jogos a comporem cada jogo, padrão 6\n",
    "    dezena_max: int, limite escolha do número aleatório, padrão 60\n",
    "    '''\n",
    "    import numpy as np\n",
    "\n",
    "    #gera o número aleatório da loteria\n",
    "    def numero_magico():\n",
    "        return np.random.randint(1, dezena_max + 1)\n",
    "    \n",
    "    #laço para criar a qtd de jogos \n",
    "    for i in range(qtd_jogos):\n",
    "        jogo = [numero_magico()]\n",
    "\n",
    "        #laço para adicionar as dezenas restantes\n",
    "        for j in range(qtd_dezendas - 1):\n",
    "                valida = True\n",
    "                while valida:\n",
    "                    novo_num = numero_magico()\n",
    "\n",
    "                    #adiciona ao jogo se novo número não estiver lá\n",
    "                    if novo_num not in jogo:\n",
    "                        jogo.append(novo_num)\n",
    "                        valida = False\n",
    "\n",
    "        print(np.sort(jogo))\n"
   ]
  },
  {
   "cell_type": "code",
   "execution_count": 2,
   "metadata": {},
   "outputs": [
    {
     "name": "stdout",
     "output_type": "stream",
     "text": [
      "[13 20 38 51 55 58]\n",
      "[ 3 12 13 29 45 49]\n"
     ]
    }
   ],
   "source": [
    "numeros_da_sorte(2)"
   ]
  }
 ],
 "metadata": {
  "kernelspec": {
   "display_name": "Python 3",
   "language": "python",
   "name": "python3"
  },
  "language_info": {
   "codemirror_mode": {
    "name": "ipython",
    "version": 3
   },
   "file_extension": ".py",
   "mimetype": "text/x-python",
   "name": "python",
   "nbconvert_exporter": "python",
   "pygments_lexer": "ipython3",
   "version": "3.10.2"
  }
 },
 "nbformat": 4,
 "nbformat_minor": 2
}
